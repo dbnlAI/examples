{
 "cells": [
  {
   "cell_type": "code",
   "execution_count": null,
   "metadata": {},
   "outputs": [
    {
     "name": "stdout",
     "output_type": "stream",
     "text": [
      "Loaded 20 rows from data.parquet\n",
      "Evaluating metrics:\n",
      "token_count__response_to_user\n",
      "word_count__response_to_user\n",
      "flesch_kincaid_grade__response_to_user\n",
      "automated_readability_index__response_to_user\n",
      "llm_text_toxicity_v0__response_to_user\n"
     ]
    },
    {
     "data": {
      "application/vnd.jupyter.widget-view+json": {
       "model_id": "c9b7370c048b487bb5fee601d54e4906",
       "version_major": 2,
       "version_minor": 0
      },
      "text/plain": [
       "  0%|          | 0/20 [00:00<?, ?it/s]"
      ]
     },
     "metadata": {},
     "output_type": "display_data"
    },
    {
     "name": "stdout",
     "output_type": "stream",
     "text": [
      "llm_sentiment_assessment_v0__response_to_user\n"
     ]
    },
    {
     "data": {
      "application/vnd.jupyter.widget-view+json": {
       "model_id": "6afec8bacb934d348a41161d271121f2",
       "version_major": 2,
       "version_minor": 0
      },
      "text/plain": [
       "  0%|          | 0/20 [00:00<?, ?it/s]"
      ]
     },
     "metadata": {},
     "output_type": "display_data"
    },
    {
     "name": "stdout",
     "output_type": "stream",
     "text": [
      "llm_reading_complexity_v0__response_to_user\n"
     ]
    },
    {
     "data": {
      "application/vnd.jupyter.widget-view+json": {
       "model_id": "d20fc1479b7f4aad9ab3c64ce162cda1",
       "version_major": 2,
       "version_minor": 0
      },
      "text/plain": [
       "  0%|          | 0/20 [00:00<?, ?it/s]"
      ]
     },
     "metadata": {},
     "output_type": "display_data"
    },
    {
     "name": "stdout",
     "output_type": "stream",
     "text": [
      "llm_grammar_accuracy_v0__response_to_user\n"
     ]
    },
    {
     "data": {
      "application/vnd.jupyter.widget-view+json": {
       "model_id": "bcaf2bfc0ae8411d8d390a6d85990a4f",
       "version_major": 2,
       "version_minor": 0
      },
      "text/plain": [
       "  0%|          | 0/20 [00:00<?, ?it/s]"
      ]
     },
     "metadata": {},
     "output_type": "display_data"
    },
    {
     "name": "stdout",
     "output_type": "stream",
     "text": [
      "custom_friendliness_metric_v0__response_to_user\n"
     ]
    },
    {
     "data": {
      "application/vnd.jupyter.widget-view+json": {
       "model_id": "21739714342a411dbb8f13e06fced049",
       "version_major": 2,
       "version_minor": 0
      },
      "text/plain": [
       "  0%|          | 0/20 [00:00<?, ?it/s]"
      ]
     },
     "metadata": {},
     "output_type": "display_data"
    },
    {
     "name": "stdout",
     "output_type": "stream",
     "text": [
      "Done evaluating metrics.\n",
      "Run closed. View results at: https://app.dbnl.com/ns/ns_7CufhCxaoXQzJ1SaMzuWmE/projects/proj_39wPiG2ZtWivHWx1vwbSgy/runs/run_1GrZQANnjfXl1eH4Wz4Fy6\n",
      "Customer support data processing, augmentation, and reporting completed successfully.\n"
     ]
    }
   ],
   "source": [
    "from auxiliaries import x"
   ]
  },
  {
   "cell_type": "markdown",
   "metadata": {},
   "source": [
    "# Distributional AI Testing Demo\n",
    "\n",
    "### Multi-Component Customer Support Routing Model\n",
    "\n",
    "```mermaid\n",
    "flowchart LR\n",
    "    A[input] --> B[metadata_extraction]\n",
    "    A --> C[metadata_sentiment]\n",
    "    A --> D[task_inferred]\n",
    "    B --> E[routing_priority]\n",
    "    C --> E\n",
    "    D --> E\n",
    "    E --> F[response_to_user]\n",
    "    E --> G[final_routing_output]\n",
    "```\n",
    "\n",
    "### Example of a Final Routing Output\n"
   ]
  },
  {
   "cell_type": "code",
   "execution_count": 2,
   "metadata": {},
   "outputs": [
    {
     "name": "stdout",
     "output_type": "stream",
     "text": [
      "{\n",
      "  \"input\": \"The system refuses to let me perform updates; it malfunctions while trying to do so.\",\n",
      "  \"output\": {\n",
      "    \"task_inferred\": \"issue_classification\",\n",
      "    \"response_to_user\": \"I understand that you are experiencing issues with the system not allowing updates. This could be a technical problem. Please try restarting the system and see if that resolves the issue. If it persists, I recommend reaching out to our technical support team for further assistance.\",\n",
      "    \"routing\": {\n",
      "      \"priority\": \"high\"\n",
      "    },\n",
      "    \"metadata\": {\n",
      "      \"sentiment\": {\n",
      "        \"polarity\": \"negative\",\n",
      "        \"confidence_score\": 0.9\n",
      "      }\n",
      "    }\n",
      "  }\n",
      "}\n"
     ]
    }
   ],
   "source": [
    "print(example_structured_output)"
   ]
  },
  {
   "cell_type": "markdown",
   "id": "099df3e9",
   "metadata": {},
   "source": [
    "    {\n",
    "      \"input\": \"The system refuses to let me perform updates; it malfunctions while trying to do so.\",\n",
    "      \"output\": {\n",
    "        \"task_inferred\": \"issue_classification\",\n",
    "        \"response_to_user\": \"I understand that you are experiencing issues with the system not allowing updates. This could be a technical problem. Please try restarting the system and see if that resolves the issue. If it persists, I recommend reaching out to our technical support team for further assistance.\",\n",
    "        \"routing\": {\n",
    "          \"priority\": \"high\"\n",
    "        },\n",
    "        \"metadata\": {\n",
    "          \"sentiment\": {\n",
    "            \"polarity\": \"negative\",\n",
    "            \"confidence_score\": 0.9\n",
    "          }\n",
    "        }\n",
    "      }\n",
    "    }"
   ]
  },
  {
   "cell_type": "markdown",
   "metadata": {},
   "source": [
    "### Example Raw Tabular Data\n"
   ]
  },
  {
   "cell_type": "code",
   "execution_count": 3,
   "metadata": {
    "lines_to_next_cell": 2
   },
   "outputs": [
    {
     "data": {
      "text/html": [
       "<table border=\"1\" class=\"dataframe\">\n",
       "  <thead>\n",
       "    <tr style=\"text-align: right;\">\n",
       "      <th></th>\n",
       "      <th>original_input</th>\n",
       "      <th>recreated_input</th>\n",
       "      <th>task_inferred</th>\n",
       "      <th>response_to_user</th>\n",
       "      <th>routing_priority</th>\n",
       "      <th>metadata_sentiment_polarity</th>\n",
       "      <th>metadata_sentiment_confidence_score</th>\n",
       "      <th>raw_customer_support_output</th>\n",
       "    </tr>\n",
       "    <tr>\n",
       "      <th>index</th>\n",
       "      <th></th>\n",
       "      <th></th>\n",
       "      <th></th>\n",
       "      <th></th>\n",
       "      <th></th>\n",
       "      <th></th>\n",
       "      <th></th>\n",
       "      <th></th>\n",
       "    </tr>\n",
       "  </thead>\n",
       "  <tbody>\n",
       "    <tr>\n",
       "      <th>0</th>\n",
       "      <td>I just want to confirm that the classification is 'issue_classification' and the subcategory is 'billing_issue'. There is some sort of issue behind the scenes that I cannot identify.</td>\n",
       "      <td>I just want to confirm that the classification is 'issue_classification' and the subcategory is 'billing_issue'. There is some sort of issue behind the scenes that I cannot identify.</td>\n",
       "      <td>issue_classification</td>\n",
       "      <td>Thank you for your message. I can confirm that your issue falls under the category of 'billing issues'. Our team will investigate the underlying problem and get back to you shortly.</td>\n",
       "      <td>normal</td>\n",
       "      <td>neutral</td>\n",
       "      <td>0.7</td>\n",
       "      <td>{\"input\": \"I just want to confirm that the classification is 'issue_classification' and the subcategory is 'billing_issue'. There is some sort of issue behind the scenes that I cannot identify.\", \"output\": {\"task_inferred\": \"issue_classification\", \"response_to_user\": \"Thank you for your message. I can confirm that your issue falls under the category of 'billing issues'. Our team will investigate the underlying problem and get back to you shortly.\", \"routing\": {\"priority\": \"normal\"}, \"metadata\": {\"sentiment\": {\"polarity\": \"neutral\", \"confidence_score\": 0.7}}}}</td>\n",
       "    </tr>\n",
       "    <tr>\n",
       "      <th>1</th>\n",
       "      <td>The system refuses to let me perform updates; it malfunctions while trying to do so.</td>\n",
       "      <td>The system refuses to let me perform updates; it malfunctions while trying to do so.</td>\n",
       "      <td>issue_classification</td>\n",
       "      <td>I understand that you are experiencing issues with the system not allowing updates. This could be a technical problem. Please try restarting the system and see if that resolves the issue. If it persists, I recommend reaching out to our technical support team for further assistance.</td>\n",
       "      <td>high</td>\n",
       "      <td>negative</td>\n",
       "      <td>0.9</td>\n",
       "      <td>{\"input\": \"The system refuses to let me perform updates; it malfunctions while trying to do so.\", \"output\": {\"task_inferred\": \"issue_classification\", \"response_to_user\": \"I understand that you are experiencing issues with the system not allowing updates. This could be a technical problem. Please try restarting the system and see if that resolves the issue. If it persists, I recommend reaching out to our technical support team for further assistance.\", \"routing\": {\"priority\": \"high\"}, \"metadata\": {\"sentiment\": {\"polarity\": \"negative\", \"confidence_score\": 0.9}}}}</td>\n",
       "    </tr>\n",
       "  </tbody>\n",
       "</table>"
      ],
      "text/plain": [
       "<IPython.core.display.HTML object>"
      ]
     },
     "metadata": {},
     "output_type": "display_data"
    }
   ],
   "source": [
    "# Convert to HTML and display\n",
    "import pandas as pd\n",
    "\n",
    "data = pd.read_parquet(\"data.parquet\")[:20]\n",
    "display(HTML(data.head(2).to_html()))"
   ]
  },
  {
   "cell_type": "markdown",
   "id": "353c01bb",
   "metadata": {},
   "source": [
    "<table border=\"1\" class=\"dataframe\">\n",
    "  <thead>\n",
    "    <tr style=\"text-align: right;\">\n",
    "      <th></th>\n",
    "      <th>original_input</th>\n",
    "      <th>recreated_input</th>\n",
    "      <th>task_inferred</th>\n",
    "      <th>response_to_user</th>\n",
    "      <th>routing_priority</th>\n",
    "      <th>metadata_sentiment_polarity</th>\n",
    "      <th>metadata_sentiment_confidence_score</th>\n",
    "      <th>raw_customer_support_output</th>\n",
    "    </tr>\n",
    "    <tr>\n",
    "      <th>index</th>\n",
    "      <th></th>\n",
    "      <th></th>\n",
    "      <th></th>\n",
    "      <th></th>\n",
    "      <th></th>\n",
    "      <th></th>\n",
    "      <th></th>\n",
    "      <th></th>\n",
    "    </tr>\n",
    "  </thead>\n",
    "  <tbody>\n",
    "    <tr>\n",
    "      <th>0</th>\n",
    "      <td>I just want to confirm that the classification is 'issue_classification' and the subcategory is 'billing_issue'. There is some sort of issue behind the scenes that I cannot identify.</td>\n",
    "      <td>I just want to confirm that the classification is 'issue_classification' and the subcategory is 'billing_issue'. There is some sort of issue behind the scenes that I cannot identify.</td>\n",
    "      <td>issue_classification</td>\n",
    "      <td>Thank you for your message. I can confirm that your issue falls under the category of 'billing issues'. Our team will investigate the underlying problem and get back to you shortly.</td>\n",
    "      <td>normal</td>\n",
    "      <td>neutral</td>\n",
    "      <td>0.7</td>\n",
    "      <td>{\"input\": \"I just want to confirm that the classification is 'issue_classification' and the subcategory is 'billing_issue'. There is some sort of issue behind the scenes that I cannot identify.\", \"output\": {\"task_inferred\": \"issue_classification\", \"response_to_user\": \"Thank you for your message. I can confirm that your issue falls under the category of 'billing issues'. Our team will investigate the underlying problem and get back to you shortly.\", \"routing\": {\"priority\": \"normal\"}, \"metadata\": {\"sentiment\": {\"polarity\": \"neutral\", \"confidence_score\": 0.7}}}}</td>\n",
    "    </tr>\n",
    "    <tr>\n",
    "      <th>1</th>\n",
    "      <td>The system refuses to let me perform updates; it malfunctions while trying to do so.</td>\n",
    "      <td>The system refuses to let me perform updates; it malfunctions while trying to do so.</td>\n",
    "      <td>issue_classification</td>\n",
    "      <td>I understand that you are experiencing issues with the system not allowing updates. This could be a technical problem. Please try restarting the system and see if that resolves the issue. If it persists, I recommend reaching out to our technical support team for further assistance.</td>\n",
    "      <td>high</td>\n",
    "      <td>negative</td>\n",
    "      <td>0.9</td>\n",
    "      <td>{\"input\": \"The system refuses to let me perform updates; it malfunctions while trying to do so.\", \"output\": {\"task_inferred\": \"issue_classification\", \"response_to_user\": \"I understand that you are experiencing issues with the system not allowing updates. This could be a technical problem. Please try restarting the system and see if that resolves the issue. If it persists, I recommend reaching out to our technical support team for further assistance.\", \"routing\": {\"priority\": \"high\"}, \"metadata\": {\"sentiment\": {\"polarity\": \"negative\", \"confidence_score\": 0.9}}}}</td>\n",
    "    </tr>\n",
    "  </tbody>\n",
    "</table>"
   ]
  },
  {
   "cell_type": "markdown",
   "metadata": {},
   "source": [
    "### Example Augmented Tabular Data\n"
   ]
  },
  {
   "cell_type": "code",
   "execution_count": 4,
   "metadata": {
    "lines_to_next_cell": 2
   },
   "outputs": [
    {
     "data": {
      "text/html": [
       "<table border=\"1\" class=\"dataframe\">\n",
       "  <thead>\n",
       "    <tr style=\"text-align: right;\">\n",
       "      <th></th>\n",
       "      <th>original_input</th>\n",
       "      <th>recreated_input</th>\n",
       "      <th>task_inferred</th>\n",
       "      <th>response_to_user</th>\n",
       "      <th>routing_priority</th>\n",
       "      <th>metadata_sentiment_polarity</th>\n",
       "      <th>metadata_sentiment_confidence_score</th>\n",
       "      <th>raw_customer_support_output</th>\n",
       "      <th>token_count__response_to_user</th>\n",
       "      <th>word_count__response_to_user</th>\n",
       "      <th>flesch_kincaid_grade__response_to_user</th>\n",
       "      <th>automated_readability_index__response_to_user</th>\n",
       "      <th>llm_text_toxicity_v0__response_to_user</th>\n",
       "      <th>llm_sentiment_assessment_v0__response_to_user</th>\n",
       "      <th>llm_reading_complexity_v0__response_to_user</th>\n",
       "      <th>llm_grammar_accuracy_v0__response_to_user</th>\n",
       "      <th>custom_friendliness_metric_v0__response_to_user</th>\n",
       "    </tr>\n",
       "    <tr>\n",
       "      <th>index</th>\n",
       "      <th></th>\n",
       "      <th></th>\n",
       "      <th></th>\n",
       "      <th></th>\n",
       "      <th></th>\n",
       "      <th></th>\n",
       "      <th></th>\n",
       "      <th></th>\n",
       "      <th></th>\n",
       "      <th></th>\n",
       "      <th></th>\n",
       "      <th></th>\n",
       "      <th></th>\n",
       "      <th></th>\n",
       "      <th></th>\n",
       "      <th></th>\n",
       "      <th></th>\n",
       "    </tr>\n",
       "  </thead>\n",
       "  <tbody>\n",
       "    <tr>\n",
       "      <th>0</th>\n",
       "      <td>I just want to confirm that the classification is 'issue_classification' and the subcategory is 'billing_issue'. There is some sort of issue behind the scenes that I cannot identify.</td>\n",
       "      <td>I just want to confirm that the classification is 'issue_classification' and the subcategory is 'billing_issue'. There is some sort of issue behind the scenes that I cannot identify.</td>\n",
       "      <td>issue_classification</td>\n",
       "      <td>Thank you for your message. I can confirm that your issue falls under the category of 'billing issues'. Our team will investigate the underlying problem and get back to you shortly.</td>\n",
       "      <td>normal</td>\n",
       "      <td>neutral</td>\n",
       "      <td>0.7</td>\n",
       "      <td>{\"input\": \"I just want to confirm that the classification is 'issue_classification' and the subcategory is 'billing_issue'. There is some sort of issue behind the scenes that I cannot identify.\", \"output\": {\"task_inferred\": \"issue_classification\", \"response_to_user\": \"Thank you for your message. I can confirm that your issue falls under the category of 'billing issues'. Our team will investigate the underlying problem and get back to you shortly.\", \"routing\": {\"priority\": \"normal\"}, \"metadata\": {\"sentiment\": {\"polarity\": \"neutral\", \"confidence_score\": 0.7}}}}</td>\n",
       "      <td>36</td>\n",
       "      <td>31</td>\n",
       "      <td>7.3</td>\n",
       "      <td>6.7</td>\n",
       "      <td>5</td>\n",
       "      <td>4</td>\n",
       "      <td>5</td>\n",
       "      <td>4</td>\n",
       "      <td>5</td>\n",
       "    </tr>\n",
       "    <tr>\n",
       "      <th>1</th>\n",
       "      <td>The system refuses to let me perform updates; it malfunctions while trying to do so.</td>\n",
       "      <td>The system refuses to let me perform updates; it malfunctions while trying to do so.</td>\n",
       "      <td>issue_classification</td>\n",
       "      <td>I understand that you are experiencing issues with the system not allowing updates. This could be a technical problem. Please try restarting the system and see if that resolves the issue. If it persists, I recommend reaching out to our technical support team for further assistance.</td>\n",
       "      <td>high</td>\n",
       "      <td>negative</td>\n",
       "      <td>0.9</td>\n",
       "      <td>{\"input\": \"The system refuses to let me perform updates; it malfunctions while trying to do so.\", \"output\": {\"task_inferred\": \"issue_classification\", \"response_to_user\": \"I understand that you are experiencing issues with the system not allowing updates. This could be a technical problem. Please try restarting the system and see if that resolves the issue. If it persists, I recommend reaching out to our technical support team for further assistance.\", \"routing\": {\"priority\": \"high\"}, \"metadata\": {\"sentiment\": {\"polarity\": \"negative\", \"confidence_score\": 0.9}}}}</td>\n",
       "      <td>51</td>\n",
       "      <td>46</td>\n",
       "      <td>9.0</td>\n",
       "      <td>8.6</td>\n",
       "      <td>5</td>\n",
       "      <td>4</td>\n",
       "      <td>4</td>\n",
       "      <td>5</td>\n",
       "      <td>5</td>\n",
       "    </tr>\n",
       "  </tbody>\n",
       "</table>"
      ],
      "text/plain": [
       "<IPython.core.display.HTML object>"
      ]
     },
     "metadata": {},
     "output_type": "display_data"
    }
   ],
   "source": [
    "display(HTML(augmented_data.head(2).to_html()))"
   ]
  },
  {
   "cell_type": "markdown",
   "id": "fcefdde7",
   "metadata": {},
   "source": [
    "<table border=\"1\" class=\"dataframe\">\n",
    "  <thead>\n",
    "    <tr style=\"text-align: right;\">\n",
    "      <th></th>\n",
    "      <th>original_input</th>\n",
    "      <th>recreated_input</th>\n",
    "      <th>task_inferred</th>\n",
    "      <th>response_to_user</th>\n",
    "      <th>routing_priority</th>\n",
    "      <th>metadata_sentiment_polarity</th>\n",
    "      <th>metadata_sentiment_confidence_score</th>\n",
    "      <th>raw_customer_support_output</th>\n",
    "      <th>token_count__response_to_user</th>\n",
    "      <th>word_count__response_to_user</th>\n",
    "      <th>flesch_kincaid_grade__response_to_user</th>\n",
    "      <th>automated_readability_index__response_to_user</th>\n",
    "      <th>llm_text_toxicity_v0__response_to_user</th>\n",
    "      <th>llm_sentiment_assessment_v0__response_to_user</th>\n",
    "      <th>llm_reading_complexity_v0__response_to_user</th>\n",
    "      <th>llm_grammar_accuracy_v0__response_to_user</th>\n",
    "      <th>custom_friendliness_metric_v0__response_to_user</th>\n",
    "    </tr>\n",
    "    <tr>\n",
    "      <th>index</th>\n",
    "      <th></th>\n",
    "      <th></th>\n",
    "      <th></th>\n",
    "      <th></th>\n",
    "      <th></th>\n",
    "      <th></th>\n",
    "      <th></th>\n",
    "      <th></th>\n",
    "      <th></th>\n",
    "      <th></th>\n",
    "      <th></th>\n",
    "      <th></th>\n",
    "      <th></th>\n",
    "      <th></th>\n",
    "      <th></th>\n",
    "      <th></th>\n",
    "      <th></th>\n",
    "    </tr>\n",
    "  </thead>\n",
    "  <tbody>\n",
    "    <tr>\n",
    "      <th>0</th>\n",
    "      <td>I just want to confirm that the classification is 'issue_classification' and the subcategory is 'billing_issue'. There is some sort of issue behind the scenes that I cannot identify.</td>\n",
    "      <td>I just want to confirm that the classification is 'issue_classification' and the subcategory is 'billing_issue'. There is some sort of issue behind the scenes that I cannot identify.</td>\n",
    "      <td>issue_classification</td>\n",
    "      <td>Thank you for your message. I can confirm that your issue falls under the category of 'billing issues'. Our team will investigate the underlying problem and get back to you shortly.</td>\n",
    "      <td>normal</td>\n",
    "      <td>neutral</td>\n",
    "      <td>0.7</td>\n",
    "      <td>{\"input\": \"I just want to confirm that the classification is 'issue_classification' and the subcategory is 'billing_issue'. There is some sort of issue behind the scenes that I cannot identify.\", \"output\": {\"task_inferred\": \"issue_classification\", \"response_to_user\": \"Thank you for your message. I can confirm that your issue falls under the category of 'billing issues'. Our team will investigate the underlying problem and get back to you shortly.\", \"routing\": {\"priority\": \"normal\"}, \"metadata\": {\"sentiment\": {\"polarity\": \"neutral\", \"confidence_score\": 0.7}}}}</td>\n",
    "      <td>36</td>\n",
    "      <td>31</td>\n",
    "      <td>7.3</td>\n",
    "      <td>6.7</td>\n",
    "      <td>5</td>\n",
    "      <td>4</td>\n",
    "      <td>5</td>\n",
    "      <td>4</td>\n",
    "      <td>5</td>\n",
    "    </tr>\n",
    "    <tr>\n",
    "      <th>1</th>\n",
    "      <td>The system refuses to let me perform updates; it malfunctions while trying to do so.</td>\n",
    "      <td>The system refuses to let me perform updates; it malfunctions while trying to do so.</td>\n",
    "      <td>issue_classification</td>\n",
    "      <td>I understand that you are experiencing issues with the system not allowing updates. This could be a technical problem. Please try restarting the system and see if that resolves the issue. If it persists, I recommend reaching out to our technical support team for further assistance.</td>\n",
    "      <td>high</td>\n",
    "      <td>negative</td>\n",
    "      <td>0.9</td>\n",
    "      <td>{\"input\": \"The system refuses to let me perform updates; it malfunctions while trying to do so.\", \"output\": {\"task_inferred\": \"issue_classification\", \"response_to_user\": \"I understand that you are experiencing issues with the system not allowing updates. This could be a technical problem. Please try restarting the system and see if that resolves the issue. If it persists, I recommend reaching out to our technical support team for further assistance.\", \"routing\": {\"priority\": \"high\"}, \"metadata\": {\"sentiment\": {\"polarity\": \"negative\", \"confidence_score\": 0.9}}}}</td>\n",
    "      <td>51</td>\n",
    "      <td>46</td>\n",
    "      <td>9.0</td>\n",
    "      <td>8.6</td>\n",
    "      <td>5</td>\n",
    "      <td>4</td>\n",
    "      <td>4</td>\n",
    "      <td>5</td>\n",
    "      <td>5</td>\n",
    "    </tr>\n",
    "  </tbody>\n",
    "</table>"
   ]
  },
  {
   "cell_type": "markdown",
   "metadata": {},
   "source": [
    "## Schedule Daily Augmentation & Tests\n"
   ]
  },
  {
   "cell_type": "code",
   "execution_count": 5,
   "metadata": {
    "lines_to_next_cell": 0
   },
   "outputs": [
    {
     "data": {
      "text/plain": [
       "<Task(PythonOperator): process_customer_support_logs>"
      ]
     },
     "execution_count": 5,
     "metadata": {},
     "output_type": "execute_result"
    }
   ],
   "source": [
    "from airflow import DAG\n",
    "from airflow.operators.python import PythonOperator\n",
    "from datetime import datetime\n",
    "\n",
    "# Define the DAG\n",
    "dag = DAG(\n",
    "    \"daily_customer_support_dag\",\n",
    "    description=\"DAG to process customer support logs daily\",\n",
    "    start_date=datetime(2025, 3, 10),\n",
    "    schedule=\"@daily\",\n",
    "    catchup=False,\n",
    "    default_args={\n",
    "        \"owner\": \"airflow\",\n",
    "        \"depends_on_past\": False,\n",
    "        \"retries\": 1,\n",
    "    },\n",
    ")\n",
    "\n",
    "# Define the task\n",
    "process_logs_task = PythonOperator(\n",
    "    task_id=\"process_customer_support_logs\",\n",
    "    python_callable=process_customer_support_data,\n",
    "    op_kwargs={\"filepath\": \"data.parquet\"},\n",
    "    dag=dag,\n",
    ")\n",
    "\n",
    "# Task execution\n",
    "process_logs_task"
   ]
  },
  {
   "cell_type": "markdown",
   "id": "9a0aad6b",
   "metadata": {},
   "source": [
    "\n",
    "\n",
    "\n",
    "\n",
    "    <Task(PythonOperator): process_customer_support_logs>"
   ]
  }
 ],
 "metadata": {
  "jupytext": {
   "formats": "ipynb,md",
   "main_language": "python"
  },
  "language_info": {
   "name": "python"
  }
 },
 "nbformat": 4,
 "nbformat_minor": 2
}
