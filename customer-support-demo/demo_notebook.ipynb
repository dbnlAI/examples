{
 "cells": [
  {
   "cell_type": "code",
   "execution_count": null,
   "metadata": {},
   "outputs": [],
   "source": [
    "from auxiliaries import *"
   ]
  },
  {
   "cell_type": "markdown",
   "metadata": {},
   "source": [
    "# Distributional AI Testing Demo\n",
    "\n",
    "#### The following is the notebook associated with the customer support demo, video available [here](https://www.youtube.com/watch?v=F2e9_UxyrVs)\n",
    "\n",
    "### Multi-Component Customer Support Routing Model\n",
    "\n",
    "```mermaid\n",
    "flowchart LR\n",
    "    A[input] --> B[metadata_extraction]\n",
    "    A --> C[metadata_sentiment]\n",
    "    A --> D[task_inferred]\n",
    "    B --> E[routing_priority]\n",
    "    C --> E\n",
    "    D --> E\n",
    "    E --> F[response_to_user]\n",
    "    E --> G[final_routing_output]\n",
    "```\n",
    "\n",
    "### Example of a Final Routing Output\n"
   ]
  },
  {
   "cell_type": "code",
   "execution_count": null,
   "metadata": {},
   "outputs": [],
   "source": [
    "print(example_structured_output)"
   ]
  },
  {
   "cell_type": "markdown",
   "id": "099df3e9",
   "metadata": {},
   "source": [
    "    {\n",
    "      \"input\": \"The system refuses to let me perform updates; it malfunctions while trying to do so.\",\n",
    "      \"output\": {\n",
    "        \"task_inferred\": \"issue_classification\",\n",
    "        \"response_to_user\": \"I understand that you are experiencing issues with the system not allowing updates. This could be a technical problem. Please try restarting the system and see if that resolves the issue. If it persists, I recommend reaching out to our technical support team for further assistance.\",\n",
    "        \"routing\": {\n",
    "          \"priority\": \"high\"\n",
    "        },\n",
    "        \"metadata\": {\n",
    "          \"sentiment\": {\n",
    "            \"polarity\": \"negative\",\n",
    "            \"confidence_score\": 0.9\n",
    "          }\n",
    "        }\n",
    "      }\n",
    "    }"
   ]
  },
  {
   "cell_type": "markdown",
   "metadata": {},
   "source": [
    "### Example Raw Tabular Data\n"
   ]
  },
  {
   "cell_type": "code",
   "execution_count": null,
   "metadata": {
    "lines_to_next_cell": 2
   },
   "outputs": [],
   "source": [
    "# Convert to HTML and display\n",
    "import pandas as pd\n",
    "\n",
    "data = pd.read_parquet(\"data.parquet\")[:20]\n",
    "display(HTML(data.head(2).to_html()))"
   ]
  },
  {
   "cell_type": "markdown",
   "id": "353c01bb",
   "metadata": {},
   "source": [
    "<table border=\"1\" class=\"dataframe\">\n",
    "  <thead>\n",
    "    <tr style=\"text-align: right;\">\n",
    "      <th></th>\n",
    "      <th>original_input</th>\n",
    "      <th>recreated_input</th>\n",
    "      <th>task_inferred</th>\n",
    "      <th>response_to_user</th>\n",
    "      <th>routing_priority</th>\n",
    "      <th>metadata_sentiment_polarity</th>\n",
    "      <th>metadata_sentiment_confidence_score</th>\n",
    "      <th>raw_customer_support_output</th>\n",
    "    </tr>\n",
    "    <tr>\n",
    "      <th>index</th>\n",
    "      <th></th>\n",
    "      <th></th>\n",
    "      <th></th>\n",
    "      <th></th>\n",
    "      <th></th>\n",
    "      <th></th>\n",
    "      <th></th>\n",
    "      <th></th>\n",
    "    </tr>\n",
    "  </thead>\n",
    "  <tbody>\n",
    "    <tr>\n",
    "      <th>0</th>\n",
    "      <td>I just want to confirm that the classification is 'issue_classification' and the subcategory is 'billing_issue'. There is some sort of issue behind the scenes that I cannot identify.</td>\n",
    "      <td>I just want to confirm that the classification is 'issue_classification' and the subcategory is 'billing_issue'. There is some sort of issue behind the scenes that I cannot identify.</td>\n",
    "      <td>issue_classification</td>\n",
    "      <td>Thank you for your message. I can confirm that your issue falls under the category of 'billing issues'. Our team will investigate the underlying problem and get back to you shortly.</td>\n",
    "      <td>normal</td>\n",
    "      <td>neutral</td>\n",
    "      <td>0.7</td>\n",
    "      <td>{\"input\": \"I just want to confirm that the classification is 'issue_classification' and the subcategory is 'billing_issue'. There is some sort of issue behind the scenes that I cannot identify.\", \"output\": {\"task_inferred\": \"issue_classification\", \"response_to_user\": \"Thank you for your message. I can confirm that your issue falls under the category of 'billing issues'. Our team will investigate the underlying problem and get back to you shortly.\", \"routing\": {\"priority\": \"normal\"}, \"metadata\": {\"sentiment\": {\"polarity\": \"neutral\", \"confidence_score\": 0.7}}}}</td>\n",
    "    </tr>\n",
    "    <tr>\n",
    "      <th>1</th>\n",
    "      <td>The system refuses to let me perform updates; it malfunctions while trying to do so.</td>\n",
    "      <td>The system refuses to let me perform updates; it malfunctions while trying to do so.</td>\n",
    "      <td>issue_classification</td>\n",
    "      <td>I understand that you are experiencing issues with the system not allowing updates. This could be a technical problem. Please try restarting the system and see if that resolves the issue. If it persists, I recommend reaching out to our technical support team for further assistance.</td>\n",
    "      <td>high</td>\n",
    "      <td>negative</td>\n",
    "      <td>0.9</td>\n",
    "      <td>{\"input\": \"The system refuses to let me perform updates; it malfunctions while trying to do so.\", \"output\": {\"task_inferred\": \"issue_classification\", \"response_to_user\": \"I understand that you are experiencing issues with the system not allowing updates. This could be a technical problem. Please try restarting the system and see if that resolves the issue. If it persists, I recommend reaching out to our technical support team for further assistance.\", \"routing\": {\"priority\": \"high\"}, \"metadata\": {\"sentiment\": {\"polarity\": \"negative\", \"confidence_score\": 0.9}}}}</td>\n",
    "    </tr>\n",
    "  </tbody>\n",
    "</table>"
   ]
  },
  {
   "cell_type": "markdown",
   "metadata": {},
   "source": [
    "### Example Augmented Tabular Data\n"
   ]
  },
  {
   "cell_type": "code",
   "execution_count": null,
   "metadata": {
    "lines_to_next_cell": 2
   },
   "outputs": [],
   "source": [
    "display(HTML(augmented_data.head(2).to_html()))"
   ]
  },
  {
   "cell_type": "markdown",
   "id": "fcefdde7",
   "metadata": {},
   "source": [
    "<table border=\"1\" class=\"dataframe\">\n",
    "  <thead>\n",
    "    <tr style=\"text-align: right;\">\n",
    "      <th></th>\n",
    "      <th>original_input</th>\n",
    "      <th>recreated_input</th>\n",
    "      <th>task_inferred</th>\n",
    "      <th>response_to_user</th>\n",
    "      <th>routing_priority</th>\n",
    "      <th>metadata_sentiment_polarity</th>\n",
    "      <th>metadata_sentiment_confidence_score</th>\n",
    "      <th>raw_customer_support_output</th>\n",
    "      <th>token_count__response_to_user</th>\n",
    "      <th>word_count__response_to_user</th>\n",
    "      <th>flesch_kincaid_grade__response_to_user</th>\n",
    "      <th>automated_readability_index__response_to_user</th>\n",
    "      <th>llm_text_toxicity_v0__response_to_user</th>\n",
    "      <th>llm_sentiment_assessment_v0__response_to_user</th>\n",
    "      <th>llm_reading_complexity_v0__response_to_user</th>\n",
    "      <th>llm_grammar_accuracy_v0__response_to_user</th>\n",
    "      <th>custom_friendliness_metric_v0__response_to_user</th>\n",
    "    </tr>\n",
    "    <tr>\n",
    "      <th>index</th>\n",
    "      <th></th>\n",
    "      <th></th>\n",
    "      <th></th>\n",
    "      <th></th>\n",
    "      <th></th>\n",
    "      <th></th>\n",
    "      <th></th>\n",
    "      <th></th>\n",
    "      <th></th>\n",
    "      <th></th>\n",
    "      <th></th>\n",
    "      <th></th>\n",
    "      <th></th>\n",
    "      <th></th>\n",
    "      <th></th>\n",
    "      <th></th>\n",
    "      <th></th>\n",
    "    </tr>\n",
    "  </thead>\n",
    "  <tbody>\n",
    "    <tr>\n",
    "      <th>0</th>\n",
    "      <td>I just want to confirm that the classification is 'issue_classification' and the subcategory is 'billing_issue'. There is some sort of issue behind the scenes that I cannot identify.</td>\n",
    "      <td>I just want to confirm that the classification is 'issue_classification' and the subcategory is 'billing_issue'. There is some sort of issue behind the scenes that I cannot identify.</td>\n",
    "      <td>issue_classification</td>\n",
    "      <td>Thank you for your message. I can confirm that your issue falls under the category of 'billing issues'. Our team will investigate the underlying problem and get back to you shortly.</td>\n",
    "      <td>normal</td>\n",
    "      <td>neutral</td>\n",
    "      <td>0.7</td>\n",
    "      <td>{\"input\": \"I just want to confirm that the classification is 'issue_classification' and the subcategory is 'billing_issue'. There is some sort of issue behind the scenes that I cannot identify.\", \"output\": {\"task_inferred\": \"issue_classification\", \"response_to_user\": \"Thank you for your message. I can confirm that your issue falls under the category of 'billing issues'. Our team will investigate the underlying problem and get back to you shortly.\", \"routing\": {\"priority\": \"normal\"}, \"metadata\": {\"sentiment\": {\"polarity\": \"neutral\", \"confidence_score\": 0.7}}}}</td>\n",
    "      <td>36</td>\n",
    "      <td>31</td>\n",
    "      <td>7.3</td>\n",
    "      <td>6.7</td>\n",
    "      <td>5</td>\n",
    "      <td>4</td>\n",
    "      <td>5</td>\n",
    "      <td>4</td>\n",
    "      <td>5</td>\n",
    "    </tr>\n",
    "    <tr>\n",
    "      <th>1</th>\n",
    "      <td>The system refuses to let me perform updates; it malfunctions while trying to do so.</td>\n",
    "      <td>The system refuses to let me perform updates; it malfunctions while trying to do so.</td>\n",
    "      <td>issue_classification</td>\n",
    "      <td>I understand that you are experiencing issues with the system not allowing updates. This could be a technical problem. Please try restarting the system and see if that resolves the issue. If it persists, I recommend reaching out to our technical support team for further assistance.</td>\n",
    "      <td>high</td>\n",
    "      <td>negative</td>\n",
    "      <td>0.9</td>\n",
    "      <td>{\"input\": \"The system refuses to let me perform updates; it malfunctions while trying to do so.\", \"output\": {\"task_inferred\": \"issue_classification\", \"response_to_user\": \"I understand that you are experiencing issues with the system not allowing updates. This could be a technical problem. Please try restarting the system and see if that resolves the issue. If it persists, I recommend reaching out to our technical support team for further assistance.\", \"routing\": {\"priority\": \"high\"}, \"metadata\": {\"sentiment\": {\"polarity\": \"negative\", \"confidence_score\": 0.9}}}}</td>\n",
    "      <td>51</td>\n",
    "      <td>46</td>\n",
    "      <td>9.0</td>\n",
    "      <td>8.6</td>\n",
    "      <td>5</td>\n",
    "      <td>4</td>\n",
    "      <td>4</td>\n",
    "      <td>5</td>\n",
    "      <td>5</td>\n",
    "    </tr>\n",
    "  </tbody>\n",
    "</table>"
   ]
  },
  {
   "cell_type": "markdown",
   "metadata": {},
   "source": [
    "## Schedule Daily Augmentation & Tests\n"
   ]
  },
  {
   "cell_type": "code",
   "execution_count": null,
   "metadata": {
    "lines_to_next_cell": 0
   },
   "outputs": [],
   "source": [
    "from airflow import DAG\n",
    "from airflow.operators.python import PythonOperator\n",
    "from datetime import datetime\n",
    "\n",
    "# Define the DAG\n",
    "dag = DAG(\n",
    "    \"daily_customer_support_dag\",\n",
    "    description=\"DAG to process customer support logs daily\",\n",
    "    start_date=datetime(2025, 3, 10),\n",
    "    schedule=\"@daily\",\n",
    "    catchup=False,\n",
    "    default_args={\n",
    "        \"owner\": \"airflow\",\n",
    "        \"depends_on_past\": False,\n",
    "        \"retries\": 1,\n",
    "    },\n",
    ")\n",
    "\n",
    "# Define the task\n",
    "process_logs_task = PythonOperator(\n",
    "    task_id=\"process_customer_support_logs\",\n",
    "    python_callable=process_customer_support_data,\n",
    "    op_kwargs={\"filepath\": \"data.parquet\"},\n",
    "    dag=dag,\n",
    ")\n",
    "\n",
    "# Task execution\n",
    "process_logs_task"
   ]
  },
  {
   "cell_type": "markdown",
   "id": "9a0aad6b",
   "metadata": {},
   "source": [
    "\n",
    "\n",
    "\n",
    "\n",
    "    <Task(PythonOperator): process_customer_support_logs>"
   ]
  }
 ],
 "metadata": {
  "jupytext": {
   "formats": "ipynb,md"
  },
  "kernelspec": {
   "display_name": ".venv",
   "language": "python",
   "name": "python3"
  },
  "language_info": {
   "name": "python",
   "version": "3.13.3"
  }
 },
 "nbformat": 4,
 "nbformat_minor": 2
}
