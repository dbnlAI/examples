{
 "cells": [
  {
   "cell_type": "code",
   "execution_count": null,
   "metadata": {
    "execution": {
     "iopub.execute_input": "2025-04-08T02:40:52.827830Z",
     "iopub.status.busy": "2025-04-08T02:40:52.827714Z",
     "iopub.status.idle": "2025-04-08T02:40:53.049551Z",
     "shell.execute_reply": "2025-04-08T02:40:53.049255Z"
    },
    "lines_to_next_cell": 2
   },
   "outputs": [],
   "source": [
    "from datetime import datetime\n",
    "\n",
    "import dbnl\n",
    "import pandas as pd\n",
    "\n",
    "COLUMN_TYPES = {0: str, 'happiness_score': 'category', 'urgency_score': 'category'}\n",
    "\n",
    "# Load sample datasets\n",
    "dataset_1 = pd.read_csv('data/dataset_1.csv', index_col=0, dtype=COLUMN_TYPES)\n",
    "dataset_2 = pd.read_csv('data/dataset_2.csv', index_col=0, dtype=COLUMN_TYPES)"
   ]
  },
  {
   "cell_type": "code",
   "execution_count": null,
   "metadata": {},
   "outputs": [],
   "source": [
    "# Login to dbnl\n",
    "dbnl.login()"
   ]
  },
  {
   "cell_type": "code",
   "execution_count": null,
   "metadata": {},
   "outputs": [],
   "source": [
    "# Create or get a project\n",
    "now = datetime.now().isoformat()\n",
    "project = dbnl.get_or_create_project(name=f\"hello-world-demo-{now}\")"
   ]
  },
  {
   "cell_type": "code",
   "execution_count": null,
   "metadata": {},
   "outputs": [],
   "source": [
    "# Submit run, set it as baseline, then submit another run, and start a test session\n",
    "run = dbnl.report_run_with_results(project=project, display_name=\"Dataset 1 Run\", column_data=dataset_1.reset_index())\n",
    "dbnl.set_run_as_baseline(run=run)\n",
    "run = dbnl.report_run_with_results(project=project, display_name=\"Dataset 2 Run\", column_data=dataset_2.reset_index())"
   ]
  },
  {
   "cell_type": "code",
   "execution_count": null,
   "metadata": {},
   "outputs": [],
   "source": [
    "# Load sample datasets\n",
    "dataset_1 = pd.read_csv('data/dataset_1.csv', index_col=0, dtype=COLUMN_TYPES)\n",
    "dataset_2 = pd.read_csv('data/dataset_2.csv', index_col=0, dtype=COLUMN_TYPES)"
   ]
  },
  {
   "cell_type": "code",
   "execution_count": null,
   "metadata": {},
   "outputs": [],
   "source": [
    "# Login to dbnl\n",
    "dbnl.login()"
   ]
  },
  {
   "cell_type": "code",
   "execution_count": null,
   "metadata": {},
   "outputs": [],
   "source": [
    "# Create or get a project\n",
    "now = datetime.now().isoformat()\n",
    "project = dbnl.get_or_create_project(name=f\"hello-world-demo-{now}\")"
   ]
  },
  {
   "cell_type": "code",
   "execution_count": null,
   "metadata": {},
   "outputs": [],
   "source": [
    "# Submit run\n",
    "run = dbnl.report_run_with_results(project=project, display_name=\"Dataset 1 Run\", column_data=dataset_1.reset_index())"
   ]
  },
  {
   "cell_type": "code",
   "execution_count": null,
   "metadata": {},
   "outputs": [],
   "source": [
    "# Set it as baseline\n",
    "dbnl.set_run_as_baseline(run=run)"
   ]
  },
  {
   "cell_type": "code",
   "execution_count": null,
   "metadata": {},
   "outputs": [],
   "source": [
    "# Submit another run, and start a test session\n",
    "run = dbnl.report_run_with_results_and_start_test_session(project=project, display_name=\"Dataset 2 Run\", column_data=dataset_2.reset_index())"
   ]
  },
  {
   "cell_type": "markdown",
   "metadata": {},
   "source": [
    "## Verify your project is on the website, which will complete the quickstart.\n",
    "Click on one of the run urls displayed above to see the created run in `dbnl`\n",
    "\n",
    "# ![Run Details Page](main_files/image.png)\n"
   ]
  }
 ],
 "metadata": {
  "jupytext": {
   "formats": "ipynb,md"
  },
  "kernelspec": {
   "display_name": ".venv",
   "language": "python",
   "name": "python3"
  },
  "language_info": {
   "codemirror_mode": {
    "name": "ipython",
    "version": 3
   },
   "file_extension": ".py",
   "mimetype": "text/x-python",
   "name": "python",
   "nbconvert_exporter": "python",
   "pygments_lexer": "ipython3",
   "version": "3.12.8"
  }
 },
 "nbformat": 4,
 "nbformat_minor": 2
}
