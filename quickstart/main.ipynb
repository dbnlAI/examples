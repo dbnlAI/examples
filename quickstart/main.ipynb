{
 "cells": [
  {
   "cell_type": "code",
   "execution_count": 1,
   "metadata": {
    "execution": {
     "iopub.execute_input": "2025-04-08T02:40:52.827830Z",
     "iopub.status.busy": "2025-04-08T02:40:52.827714Z",
     "iopub.status.idle": "2025-04-08T02:40:53.049551Z",
     "shell.execute_reply": "2025-04-08T02:40:53.049255Z"
    },
    "lines_to_next_cell": 2
   },
   "outputs": [],
   "source": [
    "from datetime import datetime\n",
    "\n",
    "import dbnl\n",
    "import pandas as pd\n",
    "\n",
    "COLUMN_TYPES = {\n",
    "    0: str,\n",
    "    'happiness_score': 'category',\n",
    "    'urgency_score': 'category',\n",
    "}\n",
    "\n",
    "# Load sample datasets\n",
    "dataset_1 = pd.read_csv('data/dataset_1.csv', index_col=0, dtype=COLUMN_TYPES)\n",
    "dataset_2 = pd.read_csv('data/dataset_2.csv', index_col=0, dtype=COLUMN_TYPES)"
   ]
  },
  {
   "cell_type": "code",
   "execution_count": 2,
   "metadata": {
    "execution": {
     "iopub.execute_input": "2025-04-08T02:40:53.051038Z",
     "iopub.status.busy": "2025-04-08T02:40:53.050964Z",
     "iopub.status.idle": "2025-04-08T02:40:54.305992Z",
     "shell.execute_reply": "2025-04-08T02:40:54.305107Z"
    },
    "lines_to_next_cell": 2
   },
   "outputs": [],
   "source": [
    "# Login to dbnl\n",
    "dbnl.login()"
   ]
  },
  {
   "cell_type": "code",
   "execution_count": null,
   "metadata": {
    "execution": {
     "iopub.execute_input": "2025-04-08T02:40:54.309789Z",
     "iopub.status.busy": "2025-04-08T02:40:54.309492Z",
     "iopub.status.idle": "2025-04-08T02:40:54.329589Z",
     "shell.execute_reply": "2025-04-08T02:40:54.329240Z"
    }
   },
   "outputs": [],
   "source": [
    "# Preview dataset 1\n",
    "print(\"Dataset 1:\")\n",
    "dataset_1.head()"
   ]
  },
  {
   "cell_type": "code",
   "execution_count": null,
   "metadata": {
    "execution": {
     "iopub.execute_input": "2025-04-08T02:40:54.355338Z",
     "iopub.status.busy": "2025-04-08T02:40:54.355196Z",
     "iopub.status.idle": "2025-04-08T02:40:54.358948Z",
     "shell.execute_reply": "2025-04-08T02:40:54.358655Z"
    }
   },
   "outputs": [],
   "source": [
    "# Preview dataset 2\n",
    "print(\"Dataset 2:\")\n",
    "dataset_2.head()"
   ]
  },
  {
   "cell_type": "code",
   "execution_count": null,
   "metadata": {
    "execution": {
     "iopub.execute_input": "2025-04-08T02:40:54.360341Z",
     "iopub.status.busy": "2025-04-08T02:40:54.360258Z",
     "iopub.status.idle": "2025-04-08T02:40:55.072172Z",
     "shell.execute_reply": "2025-04-08T02:40:55.071615Z"
    }
   },
   "outputs": [],
   "source": [
    "# Create or get a project\n",
    "now = datetime.now().strftime(\"%Y-%m-%d %H:%M:%S.%f\")\n",
    "project = dbnl.get_or_create_project(name=f\"Hello_World_Demo {now}\")"
   ]
  },
  {
   "cell_type": "code",
   "execution_count": null,
   "metadata": {
    "execution": {
     "iopub.execute_input": "2025-04-08T02:40:55.075287Z",
     "iopub.status.busy": "2025-04-08T02:40:55.074633Z",
     "iopub.status.idle": "2025-04-08T02:40:58.009993Z",
     "shell.execute_reply": "2025-04-08T02:40:58.009382Z"
    }
   },
   "outputs": [],
   "source": [
    "# Submit run, set it as baseline, then submit another run, and start a test session\n",
    "run = dbnl.report_run_with_results(project=project, display_name=\"Dataset 1 Run\", column_data=dataset_1.reset_index())\n",
    "run = dbnl.report_run_with_results(project=project, display_name=\"Dataset 2 Run\", column_data=dataset_2.reset_index())"
   ]
  },
  {
   "cell_type": "markdown",
   "metadata": {},
   "source": [
    "## Verify your project is on the website, which will complete the hello world.\n",
    "Click on one of the urls displayed above to see the created run in `dbnl`\n",
    "\n",
    "![image.png](main_files/image.png)\n",
    "\n"
   ]
  }
 ],
 "metadata": {
  "jupytext": {
   "formats": "ipynb,md"
  },
  "kernelspec": {
   "display_name": ".venv",
   "language": "python",
   "name": "python3"
  },
  "language_info": {
   "codemirror_mode": {
    "name": "ipython",
    "version": 3
   },
   "file_extension": ".py",
   "mimetype": "text/x-python",
   "name": "python",
   "nbconvert_exporter": "python",
   "pygments_lexer": "ipython3",
   "version": "3.12.8"
  }
 },
 "nbformat": 4,
 "nbformat_minor": 2
}
